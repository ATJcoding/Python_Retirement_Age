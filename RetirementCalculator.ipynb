{
 "cells": [
  {
   "cell_type": "code",
   "execution_count": 3,
   "metadata": {},
   "outputs": [
    {
     "name": "stdout",
     "output_type": "stream",
     "text": [
      "Unfortunately, you still have 30 years left until you can retire in 2052 Alex.\n"
     ]
    }
   ],
   "source": [
    "from datetime import date\n",
    "current_year = (date.today().year)\n",
    "name = input('What is your name?')\n",
    "age = input('How old are you?')\n",
    "retirement_age = 65\n",
    "years_to_retire = int(retirement_age) - int(age)\n",
    "retirement_year = int(current_year) + int(years_to_retire)\n",
    "if years_to_retire == 0:\n",
    "    print('Congratulations ' + name + '! ' + 'You are ready to retire!')\n",
    "elif years_to_retire <= 10:\n",
    "    print('You are almost there ' + name + '! ' + ' You only have ' + str(years_to_retire) \\\n",
    "        + ' years left until you can retire' + ' in ' + str(retirement_year) + '.')\n",
    "else:\n",
    "    print('Unfortunately, you still have ' + str(years_to_retire) + \\\n",
    "        ' years left until you can retire' + ' in ' + str(retirement_year) + ' ' + name + '.')"
   ]
  }
 ],
 "metadata": {
  "kernelspec": {
   "display_name": "Python 3.8.7 64-bit",
   "language": "python",
   "name": "python3"
  },
  "language_info": {
   "codemirror_mode": {
    "name": "ipython",
    "version": 3
   },
   "file_extension": ".py",
   "mimetype": "text/x-python",
   "name": "python",
   "nbconvert_exporter": "python",
   "pygments_lexer": "ipython3",
   "version": "3.8.7"
  },
  "orig_nbformat": 4,
  "vscode": {
   "interpreter": {
    "hash": "fd387f4c6bfead775c49f806c424fbbf141bcfb4f89cf82cdfedcbad543523b1"
   }
  }
 },
 "nbformat": 4,
 "nbformat_minor": 2
}
